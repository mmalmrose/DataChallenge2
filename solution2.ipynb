{
 "cells": [
  {
   "cell_type": "code",
   "execution_count": 1,
   "metadata": {},
   "outputs": [
    {
     "name": "stderr",
     "output_type": "stream",
     "text": [
      "/usr/local/lib/python2.7/dist-packages/pandas/core/computation/__init__.py:18: UserWarning: The installed version of numexpr 2.4.3 is not supported in pandas and will be not be used\n",
      "The minimum supported version is 2.4.6\n",
      "\n",
      "  ver=ver, min_ver=_MIN_NUMEXPR_VERSION), UserWarning)\n"
     ]
    }
   ],
   "source": [
    "import pandas as pd\n",
    "import numpy as np\n",
    "import matplotlib.pyplot as plt\n",
    "import seaborn as sns\n",
    "%matplotlib inline"
   ]
  },
  {
   "cell_type": "code",
   "execution_count": 2,
   "metadata": {},
   "outputs": [
    {
     "name": "stdout",
     "output_type": "stream",
     "text": [
      "Data_Challenge_A%2FB_Problem.pdf  test_results.csv\r\n",
      "solution2.ipynb\t\t\t  user_table.csv\r\n"
     ]
    }
   ],
   "source": [
    "!ls"
   ]
  },
  {
   "cell_type": "code",
   "execution_count": 3,
   "metadata": {
    "collapsed": true
   },
   "outputs": [],
   "source": [
    "userframe = pd.read_csv('user_table.csv')\n",
    "testframe = pd.read_csv('test_results.csv')"
   ]
  },
  {
   "cell_type": "code",
   "execution_count": 4,
   "metadata": {},
   "outputs": [
    {
     "data": {
      "text/html": [
       "<div>\n",
       "<style>\n",
       "    .dataframe thead tr:only-child th {\n",
       "        text-align: right;\n",
       "    }\n",
       "\n",
       "    .dataframe thead th {\n",
       "        text-align: left;\n",
       "    }\n",
       "\n",
       "    .dataframe tbody tr th {\n",
       "        vertical-align: top;\n",
       "    }\n",
       "</style>\n",
       "<table border=\"1\" class=\"dataframe\">\n",
       "  <thead>\n",
       "    <tr style=\"text-align: right;\">\n",
       "      <th></th>\n",
       "      <th>user_id</th>\n",
       "      <th>city</th>\n",
       "      <th>country</th>\n",
       "      <th>lat</th>\n",
       "      <th>long</th>\n",
       "    </tr>\n",
       "  </thead>\n",
       "  <tbody>\n",
       "    <tr>\n",
       "      <th>0</th>\n",
       "      <td>510335</td>\n",
       "      <td>Peabody</td>\n",
       "      <td>USA</td>\n",
       "      <td>42.53</td>\n",
       "      <td>-70.97</td>\n",
       "    </tr>\n",
       "    <tr>\n",
       "      <th>1</th>\n",
       "      <td>89568</td>\n",
       "      <td>Reno</td>\n",
       "      <td>USA</td>\n",
       "      <td>39.54</td>\n",
       "      <td>-119.82</td>\n",
       "    </tr>\n",
       "    <tr>\n",
       "      <th>2</th>\n",
       "      <td>434134</td>\n",
       "      <td>Rialto</td>\n",
       "      <td>USA</td>\n",
       "      <td>34.11</td>\n",
       "      <td>-117.39</td>\n",
       "    </tr>\n",
       "    <tr>\n",
       "      <th>3</th>\n",
       "      <td>289769</td>\n",
       "      <td>Carson City</td>\n",
       "      <td>USA</td>\n",
       "      <td>39.15</td>\n",
       "      <td>-119.74</td>\n",
       "    </tr>\n",
       "    <tr>\n",
       "      <th>4</th>\n",
       "      <td>939586</td>\n",
       "      <td>Chicago</td>\n",
       "      <td>USA</td>\n",
       "      <td>41.84</td>\n",
       "      <td>-87.68</td>\n",
       "    </tr>\n",
       "  </tbody>\n",
       "</table>\n",
       "</div>"
      ],
      "text/plain": [
       "   user_id         city country    lat    long\n",
       "0   510335      Peabody     USA  42.53  -70.97\n",
       "1    89568         Reno     USA  39.54 -119.82\n",
       "2   434134       Rialto     USA  34.11 -117.39\n",
       "3   289769  Carson City     USA  39.15 -119.74\n",
       "4   939586      Chicago     USA  41.84  -87.68"
      ]
     },
     "execution_count": 4,
     "metadata": {},
     "output_type": "execute_result"
    }
   ],
   "source": [
    "userframe.head()"
   ]
  },
  {
   "cell_type": "code",
   "execution_count": 5,
   "metadata": {},
   "outputs": [
    {
     "data": {
      "text/html": [
       "<div>\n",
       "<style>\n",
       "    .dataframe thead tr:only-child th {\n",
       "        text-align: right;\n",
       "    }\n",
       "\n",
       "    .dataframe thead th {\n",
       "        text-align: left;\n",
       "    }\n",
       "\n",
       "    .dataframe tbody tr th {\n",
       "        vertical-align: top;\n",
       "    }\n",
       "</style>\n",
       "<table border=\"1\" class=\"dataframe\">\n",
       "  <thead>\n",
       "    <tr style=\"text-align: right;\">\n",
       "      <th></th>\n",
       "      <th>user_id</th>\n",
       "      <th>timestamp</th>\n",
       "      <th>source</th>\n",
       "      <th>device</th>\n",
       "      <th>operative_system</th>\n",
       "      <th>test</th>\n",
       "      <th>price</th>\n",
       "      <th>converted</th>\n",
       "    </tr>\n",
       "  </thead>\n",
       "  <tbody>\n",
       "    <tr>\n",
       "      <th>0</th>\n",
       "      <td>604839</td>\n",
       "      <td>2015-05-08 03:38:34</td>\n",
       "      <td>ads_facebook</td>\n",
       "      <td>mobile</td>\n",
       "      <td>iOS</td>\n",
       "      <td>0</td>\n",
       "      <td>39</td>\n",
       "      <td>0</td>\n",
       "    </tr>\n",
       "    <tr>\n",
       "      <th>1</th>\n",
       "      <td>624057</td>\n",
       "      <td>2015-05-10 21:08:46</td>\n",
       "      <td>seo-google</td>\n",
       "      <td>mobile</td>\n",
       "      <td>android</td>\n",
       "      <td>0</td>\n",
       "      <td>39</td>\n",
       "      <td>0</td>\n",
       "    </tr>\n",
       "    <tr>\n",
       "      <th>2</th>\n",
       "      <td>317970</td>\n",
       "      <td>2015-04-04 15:01:23</td>\n",
       "      <td>ads-bing</td>\n",
       "      <td>mobile</td>\n",
       "      <td>android</td>\n",
       "      <td>0</td>\n",
       "      <td>39</td>\n",
       "      <td>0</td>\n",
       "    </tr>\n",
       "    <tr>\n",
       "      <th>3</th>\n",
       "      <td>685636</td>\n",
       "      <td>2015-05-07 07:26:01</td>\n",
       "      <td>direct_traffic</td>\n",
       "      <td>mobile</td>\n",
       "      <td>iOS</td>\n",
       "      <td>1</td>\n",
       "      <td>59</td>\n",
       "      <td>0</td>\n",
       "    </tr>\n",
       "    <tr>\n",
       "      <th>4</th>\n",
       "      <td>820854</td>\n",
       "      <td>2015-05-24 11:04:40</td>\n",
       "      <td>ads_facebook</td>\n",
       "      <td>web</td>\n",
       "      <td>mac</td>\n",
       "      <td>0</td>\n",
       "      <td>39</td>\n",
       "      <td>0</td>\n",
       "    </tr>\n",
       "  </tbody>\n",
       "</table>\n",
       "</div>"
      ],
      "text/plain": [
       "   user_id            timestamp          source  device operative_system  \\\n",
       "0   604839  2015-05-08 03:38:34    ads_facebook  mobile              iOS   \n",
       "1   624057  2015-05-10 21:08:46      seo-google  mobile          android   \n",
       "2   317970  2015-04-04 15:01:23        ads-bing  mobile          android   \n",
       "3   685636  2015-05-07 07:26:01  direct_traffic  mobile              iOS   \n",
       "4   820854  2015-05-24 11:04:40    ads_facebook     web              mac   \n",
       "\n",
       "   test  price  converted  \n",
       "0     0     39          0  \n",
       "1     0     39          0  \n",
       "2     0     39          0  \n",
       "3     1     59          0  \n",
       "4     0     39          0  "
      ]
     },
     "execution_count": 5,
     "metadata": {},
     "output_type": "execute_result"
    }
   ],
   "source": [
    "testframe.head()"
   ]
  },
  {
   "cell_type": "code",
   "execution_count": 6,
   "metadata": {
    "collapsed": true
   },
   "outputs": [],
   "source": [
    "\n",
    "#Drop into sql syntax \n",
    "from pandasql import sqldf \n",
    "pysqldf = lambda q: sqldf(q, globals()) \n",
    "\n",
    "converoldpricequery = \"\"\"Select price, sum(converted) as converts, count(converted) as viewed\n",
    "from  testframe \n",
    "group by price;\"\"\""
   ]
  },
  {
   "cell_type": "code",
   "execution_count": 7,
   "metadata": {
    "collapsed": true
   },
   "outputs": [],
   "source": [
    "test_table = pysqldf(converoldpricequery)"
   ]
  },
  {
   "cell_type": "code",
   "execution_count": 8,
   "metadata": {},
   "outputs": [
    {
     "data": {
      "text/html": [
       "<div>\n",
       "<style>\n",
       "    .dataframe thead tr:only-child th {\n",
       "        text-align: right;\n",
       "    }\n",
       "\n",
       "    .dataframe thead th {\n",
       "        text-align: left;\n",
       "    }\n",
       "\n",
       "    .dataframe tbody tr th {\n",
       "        vertical-align: top;\n",
       "    }\n",
       "</style>\n",
       "<table border=\"1\" class=\"dataframe\">\n",
       "  <thead>\n",
       "    <tr style=\"text-align: right;\">\n",
       "      <th></th>\n",
       "      <th>price</th>\n",
       "      <th>converts</th>\n",
       "      <th>viewed</th>\n",
       "      <th>rate</th>\n",
       "    </tr>\n",
       "  </thead>\n",
       "  <tbody>\n",
       "    <tr>\n",
       "      <th>0</th>\n",
       "      <td>39</td>\n",
       "      <td>4031</td>\n",
       "      <td>202672</td>\n",
       "      <td>0.019889</td>\n",
       "    </tr>\n",
       "    <tr>\n",
       "      <th>1</th>\n",
       "      <td>59</td>\n",
       "      <td>1777</td>\n",
       "      <td>114128</td>\n",
       "      <td>0.015570</td>\n",
       "    </tr>\n",
       "  </tbody>\n",
       "</table>\n",
       "</div>"
      ],
      "text/plain": [
       "   price  converts  viewed      rate\n",
       "0     39      4031  202672  0.019889\n",
       "1     59      1777  114128  0.015570"
      ]
     },
     "execution_count": 8,
     "metadata": {},
     "output_type": "execute_result"
    }
   ],
   "source": [
    "test_table['rate'] = test_table['converts']/test_table['viewed']\n",
    "test_table"
   ]
  },
  {
   "cell_type": "code",
   "execution_count": 9,
   "metadata": {},
   "outputs": [
    {
     "data": {
      "text/html": [
       "<div>\n",
       "<style>\n",
       "    .dataframe thead tr:only-child th {\n",
       "        text-align: right;\n",
       "    }\n",
       "\n",
       "    .dataframe thead th {\n",
       "        text-align: left;\n",
       "    }\n",
       "\n",
       "    .dataframe tbody tr th {\n",
       "        vertical-align: top;\n",
       "    }\n",
       "</style>\n",
       "<table border=\"1\" class=\"dataframe\">\n",
       "  <thead>\n",
       "    <tr style=\"text-align: right;\">\n",
       "      <th></th>\n",
       "      <th>price</th>\n",
       "      <th>converts</th>\n",
       "      <th>viewed</th>\n",
       "      <th>rate</th>\n",
       "      <th>expect_revenue</th>\n",
       "    </tr>\n",
       "  </thead>\n",
       "  <tbody>\n",
       "    <tr>\n",
       "      <th>0</th>\n",
       "      <td>39</td>\n",
       "      <td>4031</td>\n",
       "      <td>202672</td>\n",
       "      <td>0.019889</td>\n",
       "      <td>0.775682</td>\n",
       "    </tr>\n",
       "    <tr>\n",
       "      <th>1</th>\n",
       "      <td>59</td>\n",
       "      <td>1777</td>\n",
       "      <td>114128</td>\n",
       "      <td>0.015570</td>\n",
       "      <td>0.918644</td>\n",
       "    </tr>\n",
       "  </tbody>\n",
       "</table>\n",
       "</div>"
      ],
      "text/plain": [
       "   price  converts  viewed      rate  expect_revenue\n",
       "0     39      4031  202672  0.019889        0.775682\n",
       "1     59      1777  114128  0.015570        0.918644"
      ]
     },
     "execution_count": 9,
     "metadata": {},
     "output_type": "execute_result"
    }
   ],
   "source": [
    "test_table['expect_revenue'] = test_table['rate'] * test_table['price']\n",
    "test_table"
   ]
  },
  {
   "cell_type": "code",
   "execution_count": 10,
   "metadata": {
    "collapsed": true
   },
   "outputs": [],
   "source": [
    "converoldpricequery = \"\"\"select *\n",
    "from  testframe \n",
    "left join userframe on userframe.user_id = testframe.user_id\"\"\""
   ]
  },
  {
   "cell_type": "code",
   "execution_count": 11,
   "metadata": {},
   "outputs": [],
   "source": [
    "combinedtable = pysqldf(converoldpricequery)"
   ]
  },
  {
   "cell_type": "code",
   "execution_count": 12,
   "metadata": {},
   "outputs": [
    {
     "data": {
      "text/html": [
       "<div>\n",
       "<style>\n",
       "    .dataframe thead tr:only-child th {\n",
       "        text-align: right;\n",
       "    }\n",
       "\n",
       "    .dataframe thead th {\n",
       "        text-align: left;\n",
       "    }\n",
       "\n",
       "    .dataframe tbody tr th {\n",
       "        vertical-align: top;\n",
       "    }\n",
       "</style>\n",
       "<table border=\"1\" class=\"dataframe\">\n",
       "  <thead>\n",
       "    <tr style=\"text-align: right;\">\n",
       "      <th></th>\n",
       "      <th>user_id</th>\n",
       "      <th>timestamp</th>\n",
       "      <th>source</th>\n",
       "      <th>device</th>\n",
       "      <th>operative_system</th>\n",
       "      <th>test</th>\n",
       "      <th>price</th>\n",
       "      <th>converted</th>\n",
       "      <th>user_id</th>\n",
       "      <th>city</th>\n",
       "      <th>country</th>\n",
       "      <th>lat</th>\n",
       "      <th>long</th>\n",
       "    </tr>\n",
       "  </thead>\n",
       "  <tbody>\n",
       "    <tr>\n",
       "      <th>0</th>\n",
       "      <td>604839</td>\n",
       "      <td>2015-05-08 03:38:34</td>\n",
       "      <td>ads_facebook</td>\n",
       "      <td>mobile</td>\n",
       "      <td>iOS</td>\n",
       "      <td>0</td>\n",
       "      <td>39</td>\n",
       "      <td>0</td>\n",
       "      <td>604839.0</td>\n",
       "      <td>Buffalo</td>\n",
       "      <td>USA</td>\n",
       "      <td>42.89</td>\n",
       "      <td>-78.86</td>\n",
       "    </tr>\n",
       "    <tr>\n",
       "      <th>1</th>\n",
       "      <td>624057</td>\n",
       "      <td>2015-05-10 21:08:46</td>\n",
       "      <td>seo-google</td>\n",
       "      <td>mobile</td>\n",
       "      <td>android</td>\n",
       "      <td>0</td>\n",
       "      <td>39</td>\n",
       "      <td>0</td>\n",
       "      <td>624057.0</td>\n",
       "      <td>Lakeville</td>\n",
       "      <td>USA</td>\n",
       "      <td>44.68</td>\n",
       "      <td>-93.24</td>\n",
       "    </tr>\n",
       "    <tr>\n",
       "      <th>2</th>\n",
       "      <td>317970</td>\n",
       "      <td>2015-04-04 15:01:23</td>\n",
       "      <td>ads-bing</td>\n",
       "      <td>mobile</td>\n",
       "      <td>android</td>\n",
       "      <td>0</td>\n",
       "      <td>39</td>\n",
       "      <td>0</td>\n",
       "      <td>317970.0</td>\n",
       "      <td>Parma</td>\n",
       "      <td>USA</td>\n",
       "      <td>41.38</td>\n",
       "      <td>-81.73</td>\n",
       "    </tr>\n",
       "    <tr>\n",
       "      <th>3</th>\n",
       "      <td>685636</td>\n",
       "      <td>2015-05-07 07:26:01</td>\n",
       "      <td>direct_traffic</td>\n",
       "      <td>mobile</td>\n",
       "      <td>iOS</td>\n",
       "      <td>1</td>\n",
       "      <td>59</td>\n",
       "      <td>0</td>\n",
       "      <td>685636.0</td>\n",
       "      <td>Fayetteville</td>\n",
       "      <td>USA</td>\n",
       "      <td>35.07</td>\n",
       "      <td>-78.90</td>\n",
       "    </tr>\n",
       "    <tr>\n",
       "      <th>4</th>\n",
       "      <td>820854</td>\n",
       "      <td>2015-05-24 11:04:40</td>\n",
       "      <td>ads_facebook</td>\n",
       "      <td>web</td>\n",
       "      <td>mac</td>\n",
       "      <td>0</td>\n",
       "      <td>39</td>\n",
       "      <td>0</td>\n",
       "      <td>820854.0</td>\n",
       "      <td>Fishers</td>\n",
       "      <td>USA</td>\n",
       "      <td>39.95</td>\n",
       "      <td>-86.02</td>\n",
       "    </tr>\n",
       "  </tbody>\n",
       "</table>\n",
       "</div>"
      ],
      "text/plain": [
       "   user_id            timestamp          source  device operative_system  \\\n",
       "0   604839  2015-05-08 03:38:34    ads_facebook  mobile              iOS   \n",
       "1   624057  2015-05-10 21:08:46      seo-google  mobile          android   \n",
       "2   317970  2015-04-04 15:01:23        ads-bing  mobile          android   \n",
       "3   685636  2015-05-07 07:26:01  direct_traffic  mobile              iOS   \n",
       "4   820854  2015-05-24 11:04:40    ads_facebook     web              mac   \n",
       "\n",
       "   test  price  converted   user_id          city country    lat   long  \n",
       "0     0     39          0  604839.0       Buffalo     USA  42.89 -78.86  \n",
       "1     0     39          0  624057.0     Lakeville     USA  44.68 -93.24  \n",
       "2     0     39          0  317970.0         Parma     USA  41.38 -81.73  \n",
       "3     1     59          0  685636.0  Fayetteville     USA  35.07 -78.90  \n",
       "4     0     39          0  820854.0       Fishers     USA  39.95 -86.02  "
      ]
     },
     "execution_count": 12,
     "metadata": {},
     "output_type": "execute_result"
    }
   ],
   "source": [
    "combinedtable.head()"
   ]
  },
  {
   "cell_type": "code",
   "execution_count": 13,
   "metadata": {},
   "outputs": [
    {
     "data": {
      "text/html": [
       "<div>\n",
       "<style>\n",
       "    .dataframe thead tr:only-child th {\n",
       "        text-align: right;\n",
       "    }\n",
       "\n",
       "    .dataframe thead th {\n",
       "        text-align: left;\n",
       "    }\n",
       "\n",
       "    .dataframe tbody tr th {\n",
       "        vertical-align: top;\n",
       "    }\n",
       "</style>\n",
       "<table border=\"1\" class=\"dataframe\">\n",
       "  <thead>\n",
       "    <tr style=\"text-align: right;\">\n",
       "      <th></th>\n",
       "      <th>user_id</th>\n",
       "      <th>test</th>\n",
       "      <th>price</th>\n",
       "      <th>converted</th>\n",
       "      <th>user_id</th>\n",
       "      <th>lat</th>\n",
       "      <th>long</th>\n",
       "    </tr>\n",
       "  </thead>\n",
       "  <tbody>\n",
       "    <tr>\n",
       "      <th>count</th>\n",
       "      <td>316800.000000</td>\n",
       "      <td>316800.000000</td>\n",
       "      <td>316800.000000</td>\n",
       "      <td>316800.000000</td>\n",
       "      <td>275616.000000</td>\n",
       "      <td>275616.000000</td>\n",
       "      <td>275616.000000</td>\n",
       "    </tr>\n",
       "    <tr>\n",
       "      <th>mean</th>\n",
       "      <td>499281.341840</td>\n",
       "      <td>0.360079</td>\n",
       "      <td>46.205051</td>\n",
       "      <td>0.018333</td>\n",
       "      <td>499245.801521</td>\n",
       "      <td>37.111680</td>\n",
       "      <td>-93.981772</td>\n",
       "    </tr>\n",
       "    <tr>\n",
       "      <th>std</th>\n",
       "      <td>288591.154044</td>\n",
       "      <td>0.480024</td>\n",
       "      <td>9.601487</td>\n",
       "      <td>0.134154</td>\n",
       "      <td>288533.458944</td>\n",
       "      <td>5.209627</td>\n",
       "      <td>18.086486</td>\n",
       "    </tr>\n",
       "    <tr>\n",
       "      <th>min</th>\n",
       "      <td>3.000000</td>\n",
       "      <td>0.000000</td>\n",
       "      <td>39.000000</td>\n",
       "      <td>0.000000</td>\n",
       "      <td>3.000000</td>\n",
       "      <td>19.700000</td>\n",
       "      <td>-157.800000</td>\n",
       "    </tr>\n",
       "    <tr>\n",
       "      <th>25%</th>\n",
       "      <td>249525.750000</td>\n",
       "      <td>0.000000</td>\n",
       "      <td>39.000000</td>\n",
       "      <td>0.000000</td>\n",
       "      <td>249544.500000</td>\n",
       "      <td>33.660000</td>\n",
       "      <td>-112.200000</td>\n",
       "    </tr>\n",
       "    <tr>\n",
       "      <th>50%</th>\n",
       "      <td>499021.500000</td>\n",
       "      <td>0.000000</td>\n",
       "      <td>39.000000</td>\n",
       "      <td>0.000000</td>\n",
       "      <td>498861.000000</td>\n",
       "      <td>37.740000</td>\n",
       "      <td>-88.930000</td>\n",
       "    </tr>\n",
       "    <tr>\n",
       "      <th>75%</th>\n",
       "      <td>749025.500000</td>\n",
       "      <td>1.000000</td>\n",
       "      <td>59.000000</td>\n",
       "      <td>0.000000</td>\n",
       "      <td>748856.500000</td>\n",
       "      <td>40.700000</td>\n",
       "      <td>-78.910000</td>\n",
       "    </tr>\n",
       "    <tr>\n",
       "      <th>max</th>\n",
       "      <td>1000000.000000</td>\n",
       "      <td>1.000000</td>\n",
       "      <td>59.000000</td>\n",
       "      <td>1.000000</td>\n",
       "      <td>999999.000000</td>\n",
       "      <td>61.180000</td>\n",
       "      <td>30.310000</td>\n",
       "    </tr>\n",
       "  </tbody>\n",
       "</table>\n",
       "</div>"
      ],
      "text/plain": [
       "              user_id           test          price      converted  \\\n",
       "count   316800.000000  316800.000000  316800.000000  316800.000000   \n",
       "mean    499281.341840       0.360079      46.205051       0.018333   \n",
       "std     288591.154044       0.480024       9.601487       0.134154   \n",
       "min          3.000000       0.000000      39.000000       0.000000   \n",
       "25%     249525.750000       0.000000      39.000000       0.000000   \n",
       "50%     499021.500000       0.000000      39.000000       0.000000   \n",
       "75%     749025.500000       1.000000      59.000000       0.000000   \n",
       "max    1000000.000000       1.000000      59.000000       1.000000   \n",
       "\n",
       "             user_id            lat           long  \n",
       "count  275616.000000  275616.000000  275616.000000  \n",
       "mean   499245.801521      37.111680     -93.981772  \n",
       "std    288533.458944       5.209627      18.086486  \n",
       "min         3.000000      19.700000    -157.800000  \n",
       "25%    249544.500000      33.660000    -112.200000  \n",
       "50%    498861.000000      37.740000     -88.930000  \n",
       "75%    748856.500000      40.700000     -78.910000  \n",
       "max    999999.000000      61.180000      30.310000  "
      ]
     },
     "execution_count": 13,
     "metadata": {},
     "output_type": "execute_result"
    }
   ],
   "source": [
    "combinedtable.describe()"
   ]
  },
  {
   "cell_type": "code",
   "execution_count": 14,
   "metadata": {
    "collapsed": true
   },
   "outputs": [],
   "source": [
    "\n",
    "\n",
    "converoldpricequery = \"\"\"Select price, source, device, operative_system, sum(converted) as converts, count(converted) as marks\n",
    "from  testframe \n",
    "group by price, source, device, operative_system;\"\"\""
   ]
  },
  {
   "cell_type": "code",
   "execution_count": 15,
   "metadata": {
    "collapsed": true
   },
   "outputs": [],
   "source": [
    "newtest_table = pysqldf(converoldpricequery)"
   ]
  },
  {
   "cell_type": "code",
   "execution_count": 16,
   "metadata": {},
   "outputs": [
    {
     "data": {
      "text/html": [
       "<div>\n",
       "<style>\n",
       "    .dataframe thead tr:only-child th {\n",
       "        text-align: right;\n",
       "    }\n",
       "\n",
       "    .dataframe thead th {\n",
       "        text-align: left;\n",
       "    }\n",
       "\n",
       "    .dataframe tbody tr th {\n",
       "        vertical-align: top;\n",
       "    }\n",
       "</style>\n",
       "<table border=\"1\" class=\"dataframe\">\n",
       "  <thead>\n",
       "    <tr style=\"text-align: right;\">\n",
       "      <th></th>\n",
       "      <th>price</th>\n",
       "      <th>converts</th>\n",
       "      <th>viewed</th>\n",
       "      <th>rate</th>\n",
       "      <th>expect_revenue</th>\n",
       "    </tr>\n",
       "  </thead>\n",
       "  <tbody>\n",
       "    <tr>\n",
       "      <th>0</th>\n",
       "      <td>39</td>\n",
       "      <td>4031</td>\n",
       "      <td>202672</td>\n",
       "      <td>0.019889</td>\n",
       "      <td>0.775682</td>\n",
       "    </tr>\n",
       "    <tr>\n",
       "      <th>1</th>\n",
       "      <td>59</td>\n",
       "      <td>1777</td>\n",
       "      <td>114128</td>\n",
       "      <td>0.015570</td>\n",
       "      <td>0.918644</td>\n",
       "    </tr>\n",
       "  </tbody>\n",
       "</table>\n",
       "</div>"
      ],
      "text/plain": [
       "   price  converts  viewed      rate  expect_revenue\n",
       "0     39      4031  202672  0.019889        0.775682\n",
       "1     59      1777  114128  0.015570        0.918644"
      ]
     },
     "execution_count": 16,
     "metadata": {},
     "output_type": "execute_result"
    }
   ],
   "source": [
    "test_table"
   ]
  },
  {
   "cell_type": "code",
   "execution_count": 17,
   "metadata": {},
   "outputs": [
    {
     "data": {
      "text/plain": [
       "array([u'ads-bing', u'ads-google', u'ads-yahoo', u'ads_facebook',\n",
       "       u'ads_other', u'direct_traffic', u'friend_referral', u'seo-bing',\n",
       "       u'seo-google', u'seo-other', u'seo-yahoo', u'seo_facebook'], dtype=object)"
      ]
     },
     "execution_count": 17,
     "metadata": {},
     "output_type": "execute_result"
    }
   ],
   "source": [
    "newtest_table['source'].unique()"
   ]
  },
  {
   "cell_type": "code",
   "execution_count": 18,
   "metadata": {},
   "outputs": [],
   "source": [
    "lowcost = testframe.loc[(testframe.price==39) & (testframe.test==0)]\n",
    "highcost = testframe.loc[(testframe.price == 59) & (testframe.test==1)]"
   ]
  },
  {
   "cell_type": "markdown",
   "metadata": {},
   "source": [
    "# Resample the lowcost and highcost frames in order to get a grasp on what the expectation of the value of each view is at each of the different prices."
   ]
  },
  {
   "cell_type": "code",
   "execution_count": 19,
   "metadata": {},
   "outputs": [
    {
     "name": "stdout",
     "output_type": "stream",
     "text": [
      "0.020224 0.788736 0.015456 0.911904\n"
     ]
    }
   ],
   "source": [
    "def build_distribution(inputframe, column, nsamples, samplesize):\n",
    "    conversionrate = np.zeros(nsamples)\n",
    "    expectrevenue = conversionrate\n",
    "    for i in range(nsamples):\n",
    "        samp = inputframe.sample(n=samplesize)\n",
    "        conversionrate[i] = samp['converted'].sum()/np.float64(samplesize)\n",
    "    expectrevenue = conversionrate * np.float64(inputframe['price'].median())\n",
    "    return conversionrate, expectrevenue\n",
    "\n",
    "cl_rate, rl_rate = build_distribution(lowcost, 'converted', 1000, 500)\n",
    "ch_rate, rh_rate = build_distribution(highcost, 'converted', 1000, 500)\n",
    "print np.mean(cl_rate), np.mean(rl_rate), np.mean(ch_rate), np.mean(rh_rate)"
   ]
  },
  {
   "cell_type": "code",
   "execution_count": 20,
   "metadata": {},
   "outputs": [],
   "source": [
    "from scipy import stats"
   ]
  },
  {
   "cell_type": "code",
   "execution_count": 21,
   "metadata": {},
   "outputs": [
    {
     "name": "stderr",
     "output_type": "stream",
     "text": [
      "/usr/local/lib/python2.7/dist-packages/ipykernel_launcher.py:9: DeprecationWarning: object of type <type 'float'> cannot be safely interpreted as an integer.\n",
      "  if __name__ == '__main__':\n"
     ]
    },
    {
     "data": {
      "text/plain": [
       "<matplotlib.legend.Legend at 0x7fa6850b0550>"
      ]
     },
     "execution_count": 21,
     "metadata": {},
     "output_type": "execute_result"
    },
    {
     "data": {
      "image/png": "[encoded data removed]",
      "text/plain": [
       "<matplotlib.figure.Figure at 0x7fa69519e910>"
      ]
     },
     "metadata": {},
     "output_type": "display_data"
    }
   ],
   "source": [
    "sns.set_palette(\"deep\", desat=.6)\n",
    "sns.set_context(\"paper\",font_scale=2)\n",
    "sns.set_style(\"white\")\n",
    "mats = dict()\n",
    "mats[0] = rl_rate\n",
    "mats[1] = rh_rate\n",
    "fig, ax = plt.subplots(figsize=(15,7),sharey=True)\n",
    "legendlabels = ['Lower Price', 'Higher Price']\n",
    "binsize = np.linspace(0, 1.8, 0.1)\n",
    "for a in range(len(legendlabels)):\n",
    "    sns.distplot(mats[a], kde=True,\n",
    "                 label= legendlabels[a])\n",
    "ax.set_xlabel('Value per View ($)', fontsize= 20)\n",
    "ax.set_ylabel('Normalized Frequency', fontsize=20)\n",
    "ax.legend()"
   ]
  },
  {
   "cell_type": "markdown",
   "metadata": {},
   "source": [
    "## The plot of the two distributions suggests that raising the price for all consumers will result in higher revenue.  A t-test will make this conclusion more robust.\n"
   ]
  },
  {
   "cell_type": "code",
   "execution_count": 22,
   "metadata": {},
   "outputs": [
    {
     "name": "stdout",
     "output_type": "stream",
     "text": [
      "0.788736 0.251898412667\n"
     ]
    }
   ],
   "source": [
    "print np.mean(rl_rate), np.std(rl_rate)"
   ]
  },
  {
   "cell_type": "code",
   "execution_count": 23,
   "metadata": {},
   "outputs": [
    {
     "name": "stdout",
     "output_type": "stream",
     "text": [
      "0.911904 0.321255211295\n"
     ]
    }
   ],
   "source": [
    "print np.mean(rh_rate), np.std(rh_rate)"
   ]
  },
  {
   "cell_type": "code",
   "execution_count": 24,
   "metadata": {},
   "outputs": [
    {
     "name": "stdout",
     "output_type": "stream",
     "text": [
      "(-0.14849922609042321, -0.097836773909576902)\n"
     ]
    },
    {
     "name": "stderr",
     "output_type": "stream",
     "text": [
      "/usr/local/lib/python2.7/dist-packages/statsmodels/compat/pandas.py:56: FutureWarning: The pandas.core.datetools module is deprecated and will be removed in a future version. Please use the pandas.tseries module instead.\n",
      "  from pandas.core import datetools\n"
     ]
    }
   ],
   "source": [
    "import statsmodels.stats.api as sms\n",
    "cm = sms.CompareMeans(sms.DescrStatsW(rl_rate), sms.DescrStatsW(rh_rate))\n",
    "print cm.tconfint_diff(usevar='unequal')"
   ]
  },
  {
   "cell_type": "markdown",
   "metadata": {},
   "source": [
    "### The result of the t-test is that we can reject the null hypothesis that the revenue generated from the lower price is >= to that from the higher price and that the 95% confidence interval  for the revenue for each viewer that sees the higher price is 6-11 cents higher than a user that sees the lower price"
   ]
  },
  {
   "cell_type": "markdown",
   "metadata": {},
   "source": [
    "# What other Factors may be influential in conversion rates?"
   ]
  },
  {
   "cell_type": "code",
   "execution_count": 25,
   "metadata": {},
   "outputs": [
    {
     "data": {
      "text/plain": [
       "0    2015-05-08 03:38:34\n",
       "1    2015-05-10 21:08:46\n",
       "2    2015-04-04 15:01:23\n",
       "3    2015-05-07 07:26:01\n",
       "4    2015-05-24 11:04:40\n",
       "Name: timestamp, dtype: object"
      ]
     },
     "execution_count": 25,
     "metadata": {},
     "output_type": "execute_result"
    }
   ],
   "source": [
    "from pandas import datetime\n",
    "testframe['timestamp'].head()"
   ]
  },
  {
   "cell_type": "code",
   "execution_count": 26,
   "metadata": {},
   "outputs": [],
   "source": [
    "testframe['timestamp'] = pd.to_datetime(testframe['timestamp'], format='%Y-%m-%d %H:%M:%S', errors='ignore')"
   ]
  },
  {
   "cell_type": "code",
   "execution_count": 27,
   "metadata": {},
   "outputs": [
    {
     "data": {
      "text/plain": [
       "'2015-05-31 23:59:45'"
      ]
     },
     "execution_count": 27,
     "metadata": {},
     "output_type": "execute_result"
    }
   ],
   "source": [
    "testframe['timestamp'].max()"
   ]
  },
  {
   "cell_type": "code",
   "execution_count": 28,
   "metadata": {},
   "outputs": [
    {
     "data": {
      "text/plain": [
       "'2015-03-02 00:04:12'"
      ]
     },
     "execution_count": 28,
     "metadata": {},
     "output_type": "execute_result"
    }
   ],
   "source": [
    "testframe['timestamp'].min()"
   ]
  },
  {
   "cell_type": "code",
   "execution_count": 30,
   "metadata": {},
   "outputs": [
    {
     "data": {
      "text/plain": [
       "(   price    source  device operative_system  converts  viewed  test  \\\n",
       " 0     39  ads-bing  mobile          android        45    3458     0   \n",
       " 1     39  ads-bing  mobile              iOS        69    4506     0   \n",
       " 2     39  ads-bing  mobile            other         7     754     0   \n",
       " 3     39  ads-bing     web            linux         0     152     0   \n",
       " 4     39  ads-bing     web              mac        13    1126     0   \n",
       " \n",
       "    conversionrate  customervalue  \n",
       " 0        0.013013       0.507519  \n",
       " 1        0.015313       0.597204  \n",
       " 2        0.009284       0.362069  \n",
       " 3        0.000000       0.000000  \n",
       " 4        0.011545       0.450266  ,\n",
       "      price        source  device operative_system  converts  viewed  test  \\\n",
       " 158     59  seo_facebook  mobile            other         5     411     1   \n",
       " 159     59  seo_facebook     web            linux         0     136     1   \n",
       " 160     59  seo_facebook     web              mac         9     523     1   \n",
       " 161     59  seo_facebook     web            other         0       2     1   \n",
       " 162     59  seo_facebook     web          windows        31    2596     0   \n",
       " \n",
       "      conversionrate  customervalue  \n",
       " 158        0.012165       0.717762  \n",
       " 159        0.000000       0.000000  \n",
       " 160        0.017208       1.015296  \n",
       " 161        0.000000       0.000000  \n",
       " 162        0.011941       0.704545  )"
      ]
     },
     "execution_count": 30,
     "metadata": {},
     "output_type": "execute_result"
    }
   ],
   "source": [
    "converoldpricequery = \"\"\"Select price, \n",
    "source, device, operative_system, \n",
    "sum(converted) as converts, count(converted) as viewed, test\n",
    "from  testframe \n",
    "group by price, source, device, operative_system;\"\"\"\n",
    "newtest_table = pysqldf(converoldpricequery)\n",
    "newtest_table['conversionrate'] = newtest_table['converts']/np.float64(newtest_table['viewed'])\n",
    "newtest_table['customervalue'] = newtest_table['conversionrate'] * newtest_table['price']\n",
    "newtest_table.head(), newtest_table.tail()"
   ]
  },
  {
   "cell_type": "code",
   "execution_count": 31,
   "metadata": {},
   "outputs": [
    {
     "data": {
      "text/plain": [
       "<matplotlib.text.Text at 0x7fa6823e2f50>"
      ]
     },
     "execution_count": 31,
     "metadata": {},
     "output_type": "execute_result"
    },
    {
     "data": {
      "image/png": "[encoded data removed]",
      "text/plain": [
       "<matplotlib.figure.Figure at 0x7fa6850b0610>"
      ]
     },
     "metadata": {},
     "output_type": "display_data"
    }
   ],
   "source": [
    "fig, ax = plt.subplots(figsize=(15,7),sharey=True)\n",
    "sns.barplot(x='device', y = 'customervalue', hue='test', data = newtest_table)\n",
    "ax.set_xlabel('Device')\n",
    "ax.set_ylabel('Revenue/View ($)')"
   ]
  },
  {
   "cell_type": "code",
   "execution_count": 32,
   "metadata": {},
   "outputs": [
    {
     "data": {
      "text/plain": [
       "<matplotlib.text.Text at 0x7fa681e921d0>"
      ]
     },
     "execution_count": 32,
     "metadata": {},
     "output_type": "execute_result"
    },
    {
     "data": {
      "image/png": "[encoded data removed]",
      "text/plain": [
       "<matplotlib.figure.Figure at 0x7fa681bc6110>"
      ]
     },
     "metadata": {},
     "output_type": "display_data"
    }
   ],
   "source": [
    "fig, ax = plt.subplots(figsize=(15,7),sharey=True)\n",
    "sns.barplot(x='operative_system', y = 'customervalue', hue='test', data = newtest_table)\n",
    "ax.set_xlabel('Operating System')\n",
    "ax.set_ylabel('Revenue/View ($)')"
   ]
  },
  {
   "cell_type": "markdown",
   "metadata": {},
   "source": [
    "## Interesting that the Apple product users seem to be much more profitable at the higher price than the users of other operating systems.  Let's check out the Windows and Android Users"
   ]
  },
  {
   "cell_type": "code",
   "execution_count": 33,
   "metadata": {},
   "outputs": [
    {
     "name": "stdout",
     "output_type": "stream",
     "text": [
      "0.017706 0.690534 0.0131321321321 0.774795795796\n"
     ]
    }
   ],
   "source": [
    "lowcost = testframe.loc[(testframe.price==39) & (testframe.test==0) & \n",
    "                        (testframe.operative_system != 'mac') & \n",
    "                        (testframe.operative_system !='iOS') &\n",
    "                       (testframe.operative_system !='linux') &\n",
    "                       (testframe.operative_system !='other')]\n",
    "highcost = testframe.loc[(testframe.price == 59) & \n",
    "                         (testframe.test==1) & \n",
    "                         (testframe.operative_system != 'mac') & \n",
    "                         (testframe.operative_system !='iOS')&\n",
    "                        (testframe.operative_system !='linux') &\n",
    "                        (testframe.operative_system !='other')]\n",
    "cl_rate_NOAP, rl_rate_NOAP = build_distribution(lowcost, 'converted', 1000, 500)\n",
    "ch_rate_NOAP, rh_rate_NOAP = build_distribution(highcost, 'converted', 333, 1000)\n",
    "print np.mean(cl_rate_NOAP), np.mean(rl_rate_NOAP), np.mean(ch_rate_NOAP), np.mean(rh_rate_NOAP)\n"
   ]
  },
  {
   "cell_type": "code",
   "execution_count": 34,
   "metadata": {},
   "outputs": [
    {
     "name": "stderr",
     "output_type": "stream",
     "text": [
      "/usr/local/lib/python2.7/dist-packages/ipykernel_launcher.py:9: DeprecationWarning: object of type <type 'float'> cannot be safely interpreted as an integer.\n",
      "  if __name__ == '__main__':\n"
     ]
    },
    {
     "data": {
      "text/plain": [
       "<matplotlib.legend.Legend at 0x7fa682a44b50>"
      ]
     },
     "execution_count": 34,
     "metadata": {},
     "output_type": "execute_result"
    },
    {
     "data": {
      "image/png": "[encoded data removed]",
      "text/plain": [
       "<matplotlib.figure.Figure at 0x7fa682a44bd0>"
      ]
     },
     "metadata": {},
     "output_type": "display_data"
    }
   ],
   "source": [
    "sns.set_palette(\"deep\", desat=.6)\n",
    "sns.set_context(\"paper\",font_scale=2)\n",
    "sns.set_style(\"white\")\n",
    "mats = dict()\n",
    "mats[0] = rl_rate_NOAP\n",
    "mats[1] = rh_rate_NOAP\n",
    "fig, ax = plt.subplots(figsize=(15,7),sharey=True)\n",
    "legendlabels = ['Lower Price', 'Higher Price']\n",
    "binsize = np.linspace(0, 1.8, 0.1)\n",
    "for a in range(len(legendlabels)):\n",
    "    sns.distplot(mats[a], kde=True,\n",
    "                 label= legendlabels[a])\n",
    "ax.set_xlabel('Value per View Apple Excluded ($)', fontsize= 20)\n",
    "ax.set_ylabel('Normalized Frequency', fontsize=20)\n",
    "ax.legend()"
   ]
  },
  {
   "cell_type": "code",
   "execution_count": 35,
   "metadata": {},
   "outputs": [
    {
     "name": "stdout",
     "output_type": "stream",
     "text": [
      "(-0.11158305902518909, -0.056940532566402614)\n"
     ]
    }
   ],
   "source": [
    "stats.ttest_ind(rl_rate_NOAP, rh_rate_NOAP, axis=0, equal_var = False)\n",
    "cm = sms.CompareMeans(sms.DescrStatsW(rl_rate_NOAP), sms.DescrStatsW(rh_rate_NOAP))\n",
    "print cm.tconfint_diff(usevar='unequal')"
   ]
  },
  {
   "cell_type": "markdown",
   "metadata": {},
   "source": [
    "## Even without the Apple users, you still make a little bit more per viewer with the higher price. \n",
    "\n",
    "## It would be wise to advertise more to Windows and Android users rather than the Apple users because the Apple users are already very profitable at the higher price."
   ]
  },
  {
   "cell_type": "code",
   "execution_count": 36,
   "metadata": {},
   "outputs": [
    {
     "name": "stdout",
     "output_type": "stream",
     "text": [
      "0.023728 0.925392 0.0198768768769 1.17273573574\n"
     ]
    }
   ],
   "source": [
    "lowcost = testframe.loc[(testframe.price==39) & (testframe.test==0) & \n",
    "                        (testframe.operative_system != 'windows') & \n",
    "                        (testframe.operative_system !='android') &\n",
    "                       (testframe.operative_system !='linux') &\n",
    "                       (testframe.operative_system !='other')]\n",
    "highcost = testframe.loc[(testframe.price == 59) & \n",
    "                         (testframe.test==1) & \n",
    "                         (testframe.operative_system != 'windows') & \n",
    "                         (testframe.operative_system !='android')&\n",
    "                        (testframe.operative_system !='linux') &\n",
    "                        (testframe.operative_system !='other')]\n",
    "cl_rate_AP, rl_rate_AP = build_distribution(lowcost, 'converted', 1000, 500)\n",
    "ch_rate_AP, rh_rate_AP = build_distribution(highcost, 'converted', 333, 1000)\n",
    "print np.mean(cl_rate_AP), np.mean(rl_rate_AP), np.mean(ch_rate_AP), np.mean(rh_rate_AP)"
   ]
  },
  {
   "cell_type": "code",
   "execution_count": 37,
   "metadata": {},
   "outputs": [
    {
     "name": "stderr",
     "output_type": "stream",
     "text": [
      "/usr/local/lib/python2.7/dist-packages/ipykernel_launcher.py:9: DeprecationWarning: object of type <type 'float'> cannot be safely interpreted as an integer.\n",
      "  if __name__ == '__main__':\n"
     ]
    },
    {
     "data": {
      "text/plain": [
       "<matplotlib.legend.Legend at 0x7fa682439ed0>"
      ]
     },
     "execution_count": 37,
     "metadata": {},
     "output_type": "execute_result"
    },
    {
     "data": {
      "image/png": "[encoded data removed]",
      "text/plain": [
       "<matplotlib.figure.Figure at 0x7fa684f39e50>"
      ]
     },
     "metadata": {},
     "output_type": "display_data"
    }
   ],
   "source": [
    "sns.set_palette(\"deep\", desat=.6)\n",
    "sns.set_context(\"paper\",font_scale=2)\n",
    "sns.set_style(\"white\")\n",
    "mats = dict()\n",
    "mats[0] = rl_rate_AP\n",
    "mats[1] = rh_rate_AP\n",
    "fig, ax = plt.subplots(figsize=(15,7),sharey=True)\n",
    "legendlabels = ['Lower Price', 'Higher Price']\n",
    "binsize = np.linspace(0, 1.8, 0.1)\n",
    "for a in range(len(legendlabels)):\n",
    "    sns.distplot(mats[a], kde=True,\n",
    "                 label= legendlabels[a])\n",
    "ax.set_xlabel('Value per View  Just Apple($)', fontsize= 20)\n",
    "ax.set_ylabel('Normalized Frequency', fontsize=20)\n",
    "ax.legend()"
   ]
  },
  {
   "cell_type": "code",
   "execution_count": 38,
   "metadata": {},
   "outputs": [
    {
     "name": "stdout",
     "output_type": "stream",
     "text": [
      "(-0.28116522771914376, -0.2135222437523282)\n"
     ]
    }
   ],
   "source": [
    "stats.ttest_ind(rl_rate_AP, rh_rate_AP, axis=0, equal_var = False)\n",
    "cm = sms.CompareMeans(sms.DescrStatsW(rl_rate_AP), sms.DescrStatsW(rh_rate_AP))\n",
    "print cm.tconfint_diff(usevar='unequal')"
   ]
  },
  {
   "cell_type": "markdown",
   "metadata": {},
   "source": [
    "# How long should the test be run to come up with this result?\n"
   ]
  },
  {
   "cell_type": "markdown",
   "metadata": {},
   "source": [
    "##  This experiment has been going on for nearly three months.  Do a similar calculation as above, but only draw the sample from days that occur before a specified date.  Find out how long it is until you start seeing significant separation in the  distributions "
   ]
  },
  {
   "cell_type": "code",
   "execution_count": null,
   "metadata": {
    "collapsed": true
   },
   "outputs": [],
   "source": []
  }
 ],
 "metadata": {
  "kernelspec": {
   "display_name": "Python 2",
   "language": "python",
   "name": "python2"
  },
  "language_info": {
   "codemirror_mode": {
    "name": "ipython",
    "version": 2
   },
   "file_extension": ".py",
   "mimetype": "text/x-python",
   "name": "python",
   "nbconvert_exporter": "python",
   "pygments_lexer": "ipython2",
   "version": "2.7.12"
  }
 },
 "nbformat": 4,
 "nbformat_minor": 2
}
